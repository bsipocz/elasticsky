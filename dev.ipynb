{
 "cells": [
  {
   "cell_type": "markdown",
   "metadata": {},
   "source": [
    "# Parallelized FindOrb, Prototyping Notebook"
   ]
  },
  {
   "cell_type": "code",
   "execution_count": 1,
   "metadata": {},
   "outputs": [],
   "source": [
    "import pandas as pd"
   ]
  },
  {
   "cell_type": "markdown",
   "metadata": {},
   "source": [
    "## Utils to read/write PSV ADES"
   ]
  },
  {
   "cell_type": "code",
   "execution_count": 2,
   "metadata": {},
   "outputs": [],
   "source": [
    "def read_psv_ades(fn):\n",
    "    \"\"\"Read PSV ADES file\n",
    "    \n",
    "    Args:\n",
    "        fn (str): Filename\n",
    "        \n",
    "    Returns:\n",
    "        tuple: loaded dataframe, header\n",
    "    \"\"\"\n",
    "    header = []\n",
    "    with open(fn) as fp:\n",
    "        # consume and store the header\n",
    "        while True:\n",
    "            line = fp.readline()\n",
    "            if line[0] in ['#', '!']:\n",
    "                header.append(line.rstrip())\n",
    "                continue\n",
    "            # the line is the header\n",
    "            names = [ s.strip() for s in line.split('|') ]\n",
    "            break\n",
    "        df = pd.read_csv(fp, sep='|', header=0, names=names)\n",
    "    return df, header\n",
    "\n",
    "## df, hdr = read_psv_ades(fn)\n",
    "## del df[\"rmsMag\"] # workaround for FindOrb bug\n",
    "## hdr\n",
    "## df"
   ]
  },
  {
   "cell_type": "code",
   "execution_count": 3,
   "metadata": {},
   "outputs": [],
   "source": [
    "def write_psv_ades(fn, df, header):\n",
    "    \"\"\"Write PSV ADES file\n",
    "    \n",
    "    Args:\n",
    "        fn (str): Output filename\n",
    "        df (pd.DataFrame): Dataframe of observations\n",
    "        header (list): ADES file header (list of lines)\n",
    "        \n",
    "    \"\"\"\n",
    "    with open(fn, \"w\") as fp:\n",
    "        fp.write('\\n'.join(header))\n",
    "        fp.write('\\n')\n",
    "        df.to_csv(fp, sep='|', index=False)\n",
    "\n",
    "## t1 = df[df[\"trkSub\"] == 't0000000']\n",
    "## write_psv_ades(\"foo.psv\", t1, hdr)"
   ]
  },
  {
   "cell_type": "code",
   "execution_count": 4,
   "metadata": {},
   "outputs": [
    {
     "data": {
      "text/html": [
       "<div>\n",
       "<style scoped>\n",
       "    .dataframe tbody tr th:only-of-type {\n",
       "        vertical-align: middle;\n",
       "    }\n",
       "\n",
       "    .dataframe tbody tr th {\n",
       "        vertical-align: top;\n",
       "    }\n",
       "\n",
       "    .dataframe thead th {\n",
       "        text-align: right;\n",
       "    }\n",
       "</style>\n",
       "<table border=\"1\" class=\"dataframe\">\n",
       "  <thead>\n",
       "    <tr style=\"text-align: right;\">\n",
       "      <th></th>\n",
       "      <th>trkSub</th>\n",
       "      <th>obsTime</th>\n",
       "      <th>ra</th>\n",
       "      <th>dec</th>\n",
       "      <th>rmsRA</th>\n",
       "      <th>rmsDec</th>\n",
       "      <th>mag</th>\n",
       "      <th>band</th>\n",
       "      <th>stn</th>\n",
       "      <th>mode</th>\n",
       "      <th>astCat</th>\n",
       "    </tr>\n",
       "  </thead>\n",
       "  <tbody>\n",
       "    <tr>\n",
       "      <th>0</th>\n",
       "      <td>t0000000</td>\n",
       "      <td>2022-10-04T04:31:35.818Z</td>\n",
       "      <td>340.215384</td>\n",
       "      <td>-31.237961</td>\n",
       "      <td>0.024390</td>\n",
       "      <td>0.028525</td>\n",
       "      <td>21.200</td>\n",
       "      <td>y</td>\n",
       "      <td>I11</td>\n",
       "      <td>CCD</td>\n",
       "      <td>Gaia2</td>\n",
       "    </tr>\n",
       "    <tr>\n",
       "      <th>1</th>\n",
       "      <td>t0000000</td>\n",
       "      <td>2022-10-08T04:57:44.150Z</td>\n",
       "      <td>339.602568</td>\n",
       "      <td>-31.208910</td>\n",
       "      <td>0.030950</td>\n",
       "      <td>0.036187</td>\n",
       "      <td>21.247</td>\n",
       "      <td>y</td>\n",
       "      <td>I11</td>\n",
       "      <td>CCD</td>\n",
       "      <td>Gaia2</td>\n",
       "    </tr>\n",
       "    <tr>\n",
       "      <th>2</th>\n",
       "      <td>t0000000</td>\n",
       "      <td>2022-10-08T05:20:55.363Z</td>\n",
       "      <td>339.600181</td>\n",
       "      <td>-31.208704</td>\n",
       "      <td>0.031220</td>\n",
       "      <td>0.036502</td>\n",
       "      <td>21.253</td>\n",
       "      <td>z</td>\n",
       "      <td>I11</td>\n",
       "      <td>CCD</td>\n",
       "      <td>Gaia2</td>\n",
       "    </tr>\n",
       "    <tr>\n",
       "      <th>3</th>\n",
       "      <td>t0000000</td>\n",
       "      <td>2022-10-08T05:42:49.939Z</td>\n",
       "      <td>339.597960</td>\n",
       "      <td>-31.208498</td>\n",
       "      <td>0.039912</td>\n",
       "      <td>0.046665</td>\n",
       "      <td>21.253</td>\n",
       "      <td>z</td>\n",
       "      <td>I11</td>\n",
       "      <td>CCD</td>\n",
       "      <td>Gaia2</td>\n",
       "    </tr>\n",
       "    <tr>\n",
       "      <th>4</th>\n",
       "      <td>t0000000</td>\n",
       "      <td>2022-10-08T06:06:00.720Z</td>\n",
       "      <td>339.595550</td>\n",
       "      <td>-31.208269</td>\n",
       "      <td>0.049422</td>\n",
       "      <td>0.057784</td>\n",
       "      <td>21.248</td>\n",
       "      <td>y</td>\n",
       "      <td>I11</td>\n",
       "      <td>CCD</td>\n",
       "      <td>Gaia2</td>\n",
       "    </tr>\n",
       "    <tr>\n",
       "      <th>...</th>\n",
       "      <td>...</td>\n",
       "      <td>...</td>\n",
       "      <td>...</td>\n",
       "      <td>...</td>\n",
       "      <td>...</td>\n",
       "      <td>...</td>\n",
       "      <td>...</td>\n",
       "      <td>...</td>\n",
       "      <td>...</td>\n",
       "      <td>...</td>\n",
       "      <td>...</td>\n",
       "    </tr>\n",
       "    <tr>\n",
       "      <th>455044</th>\n",
       "      <td>t0030307</td>\n",
       "      <td>2022-10-17T01:27:39.254Z</td>\n",
       "      <td>341.016670</td>\n",
       "      <td>-13.647847</td>\n",
       "      <td>0.107355</td>\n",
       "      <td>0.110474</td>\n",
       "      <td>22.814</td>\n",
       "      <td>i</td>\n",
       "      <td>I11</td>\n",
       "      <td>CCD</td>\n",
       "      <td>Gaia2</td>\n",
       "    </tr>\n",
       "    <tr>\n",
       "      <th>455045</th>\n",
       "      <td>t0030307</td>\n",
       "      <td>2022-10-18T00:39:11.635Z</td>\n",
       "      <td>340.963762</td>\n",
       "      <td>-13.645669</td>\n",
       "      <td>0.030286</td>\n",
       "      <td>0.031165</td>\n",
       "      <td>22.952</td>\n",
       "      <td>r</td>\n",
       "      <td>I11</td>\n",
       "      <td>CCD</td>\n",
       "      <td>Gaia2</td>\n",
       "    </tr>\n",
       "    <tr>\n",
       "      <th>455046</th>\n",
       "      <td>t0030307</td>\n",
       "      <td>2022-10-18T00:39:50.256Z</td>\n",
       "      <td>340.963714</td>\n",
       "      <td>-13.645656</td>\n",
       "      <td>0.029608</td>\n",
       "      <td>0.030468</td>\n",
       "      <td>22.952</td>\n",
       "      <td>r</td>\n",
       "      <td>I11</td>\n",
       "      <td>CCD</td>\n",
       "      <td>Gaia2</td>\n",
       "    </tr>\n",
       "    <tr>\n",
       "      <th>455047</th>\n",
       "      <td>t0030307</td>\n",
       "      <td>2022-10-18T01:02:39.437Z</td>\n",
       "      <td>340.962809</td>\n",
       "      <td>-13.645616</td>\n",
       "      <td>0.050079</td>\n",
       "      <td>0.051533</td>\n",
       "      <td>23.427</td>\n",
       "      <td>g</td>\n",
       "      <td>I11</td>\n",
       "      <td>CCD</td>\n",
       "      <td>Gaia2</td>\n",
       "    </tr>\n",
       "    <tr>\n",
       "      <th>455048</th>\n",
       "      <td>t0030307</td>\n",
       "      <td>2022-10-18T01:03:18.403Z</td>\n",
       "      <td>340.962804</td>\n",
       "      <td>-13.645588</td>\n",
       "      <td>0.049219</td>\n",
       "      <td>0.050649</td>\n",
       "      <td>23.427</td>\n",
       "      <td>g</td>\n",
       "      <td>I11</td>\n",
       "      <td>CCD</td>\n",
       "      <td>Gaia2</td>\n",
       "    </tr>\n",
       "  </tbody>\n",
       "</table>\n",
       "<p>455049 rows × 11 columns</p>\n",
       "</div>"
      ],
      "text/plain": [
       "          trkSub                   obsTime          ra        dec     rmsRA  \\\n",
       "0       t0000000  2022-10-04T04:31:35.818Z  340.215384 -31.237961  0.024390   \n",
       "1       t0000000  2022-10-08T04:57:44.150Z  339.602568 -31.208910  0.030950   \n",
       "2       t0000000  2022-10-08T05:20:55.363Z  339.600181 -31.208704  0.031220   \n",
       "3       t0000000  2022-10-08T05:42:49.939Z  339.597960 -31.208498  0.039912   \n",
       "4       t0000000  2022-10-08T06:06:00.720Z  339.595550 -31.208269  0.049422   \n",
       "...          ...                       ...         ...        ...       ...   \n",
       "455044  t0030307  2022-10-17T01:27:39.254Z  341.016670 -13.647847  0.107355   \n",
       "455045  t0030307  2022-10-18T00:39:11.635Z  340.963762 -13.645669  0.030286   \n",
       "455046  t0030307  2022-10-18T00:39:50.256Z  340.963714 -13.645656  0.029608   \n",
       "455047  t0030307  2022-10-18T01:02:39.437Z  340.962809 -13.645616  0.050079   \n",
       "455048  t0030307  2022-10-18T01:03:18.403Z  340.962804 -13.645588  0.049219   \n",
       "\n",
       "          rmsDec     mag band  stn mode astCat  \n",
       "0       0.028525  21.200    y  I11  CCD  Gaia2  \n",
       "1       0.036187  21.247    y  I11  CCD  Gaia2  \n",
       "2       0.036502  21.253    z  I11  CCD  Gaia2  \n",
       "3       0.046665  21.253    z  I11  CCD  Gaia2  \n",
       "4       0.057784  21.248    y  I11  CCD  Gaia2  \n",
       "...          ...     ...  ...  ...  ...    ...  \n",
       "455044  0.110474  22.814    i  I11  CCD  Gaia2  \n",
       "455045  0.031165  22.952    r  I11  CCD  Gaia2  \n",
       "455046  0.030468  22.952    r  I11  CCD  Gaia2  \n",
       "455047  0.051533  23.427    g  I11  CCD  Gaia2  \n",
       "455048  0.050649  23.427    g  I11  CCD  Gaia2  \n",
       "\n",
       "[455049 rows x 11 columns]"
      ]
     },
     "execution_count": 4,
     "metadata": {},
     "output_type": "execute_result"
    }
   ],
   "source": [
    "df, hdr = read_psv_ades(\"2022-10-18T09:06:40.464Z_discoveries_01_LSST_TEST.psv\")\n",
    "del df[\"rmsMag\"] # workaround for FindOrb bug\n",
    "df"
   ]
  },
  {
   "cell_type": "markdown",
   "metadata": {},
   "source": [
    "## Multiprocess-safe FindOrb Wrappers"
   ]
  },
  {
   "cell_type": "code",
   "execution_count": 8,
   "metadata": {},
   "outputs": [],
   "source": [
    "def fit_orbit(df, hdr):\n",
    "    \"\"\"Fit orbit with FindOrb to a single track in a multi-processing safe manner\n",
    "    \n",
    "    Args:\n",
    "        df (pd.DataFrame): The observations to fit\n",
    "        hdr (str): ADES file header for the observations in `df`\n",
    "        \n",
    "    Returns:\n",
    "        dict: A dictionary with the result of the run, of the form::\n",
    "        \n",
    "            {\n",
    "                'name': track name,\n",
    "                'state_vec': state vector\n",
    "                'epoch': state vector epoch\n",
    "                'covar': covariance matrix\n",
    "                'findorb': { # run details, useful for debugging\n",
    "                    'args': how findorb was invoked\n",
    "                    'returncode': UNIX return code (zero for success)\n",
    "                    'stdout': the contents of Find_Orb standard output\n",
    "                    'stderr': the contents of Find_Orb standard error\n",
    "                }\n",
    "            }\n",
    "    \"\"\"\n",
    "    # make sure there's only a single tracklet\n",
    "    assert len(df) >= 1\n",
    "    assert len(df[\"trkSub\"].unique()) == 1\n",
    "    trkSub = df[\"trkSub\"].iloc[0]\n",
    "\n",
    "    # create a temporary directory\n",
    "    import tempfile, subprocess, json, os\n",
    "    with tempfile.TemporaryDirectory() as tmpdir:\n",
    "        print(f\"tmpdir: {tmpdir}\")\n",
    "\n",
    "        # prep the new \"home\" directory\n",
    "        from shutil import copytree, ignore_patterns\n",
    "        copytree(\n",
    "            os.path.expanduser(\"~/.find_orb\"), f\"{tmpdir}/.find_orb\",\n",
    "            ignore=ignore_patterns('debug.txt', 'elements.json', 'elem_short.json', 'linux_p1550p2650.430t')\n",
    "        )\n",
    "        os.symlink(os.path.expanduser(\"~/.find_orb/linux_p1550p2650.430t\"), f\"{tmpdir}/.find_orb/linux_p1550p2650.430t\")\n",
    "\n",
    "        # dump to ades\n",
    "        datafile = f\"{tmpdir}/data.psv\"\n",
    "        resultdir = f\"{tmpdir}/result\"\n",
    "        write_psv_ades(datafile, df, hdr)\n",
    "\n",
    "        # call findorb\n",
    "        cmd = f\"fo {datafile} -O {resultdir} -D /Users/mjuric/projects/elasticsky/environ.dat\"\n",
    "        env = os.environ.copy()\n",
    "        env[\"HOME\"] = tmpdir\n",
    "        ret = subprocess.run(cmd, shell=True, env=env, check=False, capture_output=True)\n",
    "\n",
    "        # fetch/construct the result\n",
    "        if ret.returncode == 0:\n",
    "            # read the result\n",
    "            with open(f\"{resultdir}/covar.json\") as fp:\n",
    "                result = json.load(fp)\n",
    "        else:\n",
    "            result = {}\n",
    "\n",
    "        result[\"name\"] = trkSub\n",
    "        result[\"findorb\"] = {\n",
    "            'args': ret.args,\n",
    "            'returncode': ret.returncode,\n",
    "            'stdout': ret.stdout.decode('utf-8'),\n",
    "            'stderr': ret.stderr.decode('utf-8')\n",
    "        }\n",
    "\n",
    "        return result\n",
    "\n",
    "## t1 = df[df[\"trkSub\"] == 't0000000']\n",
    "## orbit = fit_orbit(t1, hdr)\n",
    "## orbit"
   ]
  },
  {
   "cell_type": "code",
   "execution_count": 41,
   "metadata": {},
   "outputs": [
    {
     "name": "stdout",
     "output_type": "stream",
     "text": [
      "CPU times: user 8 µs, sys: 3 µs, total: 11 µs\n",
      "Wall time: 16.2 µs\n"
     ]
    }
   ],
   "source": [
    "%%time\n",
    "def fit_orbit_batch(df, hdr, tracks=None):\n",
    "    \"\"\"Fit a batch of tracklets with FindOrb in a multi-processing safe manner\n",
    "\n",
    "    These are all still processed within a single thread (process).\n",
    "\n",
    "    Args:\n",
    "        df (pd.DataFrame): The observations to fit\n",
    "        hdr (str): ADES file header for the observations in `df`\n",
    "        tracks (list): A list of trkSubs to fit; if None, process all from `df`\n",
    "        \n",
    "    Returns:\n",
    "        dict: A dictionary of (trkSub: result), where result is the output of `fit_orbit`\n",
    "    \"\"\"\n",
    "    if tracks is None:\n",
    "        tracks = df['trkSub'].unique()\n",
    "\n",
    "    results = []\n",
    "    for trkSub in tracks:\n",
    "        trk = df[df[\"trkSub\"] == trkSub]\n",
    "        results.append(fit_orbit(trk, hdr))\n",
    "    return results\n",
    "\n",
    "## orbits = fit_orbit_batch(df, hdr, df[\"trkSub\"].unique()[:10])"
   ]
  },
  {
   "cell_type": "markdown",
   "metadata": {},
   "source": [
    "## Parallelization with Ray"
   ]
  },
  {
   "cell_type": "code",
   "execution_count": 16,
   "metadata": {
    "scrolled": true
   },
   "outputs": [
    {
     "name": "stderr",
     "output_type": "stream",
     "text": [
      "2020-12-09 17:21:20,050\tINFO services.py:1090 -- View the Ray dashboard at \u001b[1m\u001b[32mhttp://127.0.0.1:8265\u001b[39m\u001b[22m\n"
     ]
    },
    {
     "data": {
      "text/plain": [
       "{'node_ip_address': '10.0.1.10',\n",
       " 'raylet_ip_address': '10.0.1.10',\n",
       " 'redis_address': '10.0.1.10:6379',\n",
       " 'object_store_address': '/tmp/ray/session_2020-12-09_17-21-19_496480_27232/sockets/plasma_store',\n",
       " 'raylet_socket_name': '/tmp/ray/session_2020-12-09_17-21-19_496480_27232/sockets/raylet',\n",
       " 'webui_url': '127.0.0.1:8265',\n",
       " 'session_dir': '/tmp/ray/session_2020-12-09_17-21-19_496480_27232',\n",
       " 'metrics_export_port': 61492,\n",
       " 'node_id': '62f2d5f7d1d1c844a1d787bbbe9a5cb609186dcf'}"
      ]
     },
     "execution_count": 16,
     "metadata": {},
     "output_type": "execute_result"
    }
   ],
   "source": [
    "import ray\n",
    "ray.init()"
   ]
  },
  {
   "cell_type": "markdown",
   "metadata": {},
   "source": [
    "Ray variant of the batched fitter:"
   ]
  },
  {
   "cell_type": "code",
   "execution_count": 46,
   "metadata": {},
   "outputs": [],
   "source": [
    "@ray.remote\n",
    "def dist_fit_orbit_batch(df, hdr, tracks):\n",
    "    return fit_orbit_batch(df, hdr, tracks)"
   ]
  },
  {
   "cell_type": "code",
   "execution_count": 47,
   "metadata": {},
   "outputs": [],
   "source": [
    "# A utility to divide up the tracklets into smaller chunks\n",
    "def chunk(k, chunk_size):\n",
    "     return[ k[i:i + chunk_size] for i in range(0, len(k), chunk_size) ]\n",
    "\n",
    "#tracks = chunk(df['trkSub'].unique(), chunk_size=10)\n",
    "#print(len(tracks))\n",
    "#tracks[-1][-10:]"
   ]
  },
  {
   "cell_type": "code",
   "execution_count": 48,
   "metadata": {
    "scrolled": true
   },
   "outputs": [
    {
     "name": "stdout",
     "output_type": "stream",
     "text": [
      "\u001b[2m\u001b[36m(pid=27395)\u001b[0m tmpdir: /var/folders/0n/3cchn_wj5619fqz4dswygvj80000gn/T/tmpwsx2i23f\n",
      "\u001b[2m\u001b[36m(pid=27398)\u001b[0m tmpdir: /var/folders/0n/3cchn_wj5619fqz4dswygvj80000gn/T/tmps_1zrxnl\n",
      "\u001b[2m\u001b[36m(pid=27399)\u001b[0m tmpdir: /var/folders/0n/3cchn_wj5619fqz4dswygvj80000gn/T/tmpf_0xu2ri\n",
      "\u001b[2m\u001b[36m(pid=27397)\u001b[0m tmpdir: /var/folders/0n/3cchn_wj5619fqz4dswygvj80000gn/T/tmpvyf7_2_t\n",
      "\u001b[2m\u001b[36m(pid=27396)\u001b[0m tmpdir: /var/folders/0n/3cchn_wj5619fqz4dswygvj80000gn/T/tmp68fg1s75\n",
      "\u001b[2m\u001b[36m(pid=27394)\u001b[0m tmpdir: /var/folders/0n/3cchn_wj5619fqz4dswygvj80000gn/T/tmpc1zbmfxk\n",
      "\u001b[2m\u001b[36m(pid=27392)\u001b[0m tmpdir: /var/folders/0n/3cchn_wj5619fqz4dswygvj80000gn/T/tmp5gveu4qn\n",
      "\u001b[2m\u001b[36m(pid=27393)\u001b[0m tmpdir: /var/folders/0n/3cchn_wj5619fqz4dswygvj80000gn/T/tmp0yqw8vno\n",
      "\u001b[2m\u001b[36m(pid=27392)\u001b[0m tmpdir: /var/folders/0n/3cchn_wj5619fqz4dswygvj80000gn/T/tmp81pagu0l\n",
      "\u001b[2m\u001b[36m(pid=27395)\u001b[0m tmpdir: /var/folders/0n/3cchn_wj5619fqz4dswygvj80000gn/T/tmp9jq8fqj4\n",
      "\u001b[2m\u001b[36m(pid=27394)\u001b[0m tmpdir: /var/folders/0n/3cchn_wj5619fqz4dswygvj80000gn/T/tmpheubj0ts\n",
      "\u001b[2m\u001b[36m(pid=27397)\u001b[0m tmpdir: /var/folders/0n/3cchn_wj5619fqz4dswygvj80000gn/T/tmp5gn5mcl8\n",
      "\u001b[2m\u001b[36m(pid=27398)\u001b[0m tmpdir: /var/folders/0n/3cchn_wj5619fqz4dswygvj80000gn/T/tmp3yne0d0h\n",
      "\u001b[2m\u001b[36m(pid=27396)\u001b[0m tmpdir: /var/folders/0n/3cchn_wj5619fqz4dswygvj80000gn/T/tmp_6cwq5h3\n",
      "\u001b[2m\u001b[36m(pid=27393)\u001b[0m tmpdir: /var/folders/0n/3cchn_wj5619fqz4dswygvj80000gn/T/tmp75vbzw72\n",
      "\u001b[2m\u001b[36m(pid=27399)\u001b[0m tmpdir: /var/folders/0n/3cchn_wj5619fqz4dswygvj80000gn/T/tmpu63us63h\n",
      "\u001b[2m\u001b[36m(pid=27395)\u001b[0m tmpdir: /var/folders/0n/3cchn_wj5619fqz4dswygvj80000gn/T/tmp16u6bojs\n",
      "\u001b[2m\u001b[36m(pid=27397)\u001b[0m tmpdir: /var/folders/0n/3cchn_wj5619fqz4dswygvj80000gn/T/tmp7uafx9la\n",
      "\u001b[2m\u001b[36m(pid=27392)\u001b[0m tmpdir: /var/folders/0n/3cchn_wj5619fqz4dswygvj80000gn/T/tmpdfsyrhh3\n",
      "\u001b[2m\u001b[36m(pid=27399)\u001b[0m tmpdir: /var/folders/0n/3cchn_wj5619fqz4dswygvj80000gn/T/tmppldom0ns\n",
      "\u001b[2m\u001b[36m(pid=27394)\u001b[0m tmpdir: /var/folders/0n/3cchn_wj5619fqz4dswygvj80000gn/T/tmp750cu2wg\n",
      "\u001b[2m\u001b[36m(pid=27398)\u001b[0m tmpdir: /var/folders/0n/3cchn_wj5619fqz4dswygvj80000gn/T/tmplb8w_hpf\n",
      "\u001b[2m\u001b[36m(pid=27396)\u001b[0m tmpdir: /var/folders/0n/3cchn_wj5619fqz4dswygvj80000gn/T/tmpj9vcxls3\n",
      "\u001b[2m\u001b[36m(pid=27393)\u001b[0m tmpdir: /var/folders/0n/3cchn_wj5619fqz4dswygvj80000gn/T/tmp4qcvzobb\n",
      "\u001b[2m\u001b[36m(pid=27395)\u001b[0m tmpdir: /var/folders/0n/3cchn_wj5619fqz4dswygvj80000gn/T/tmpuk1cqqyn\n",
      "\u001b[2m\u001b[36m(pid=27392)\u001b[0m tmpdir: /var/folders/0n/3cchn_wj5619fqz4dswygvj80000gn/T/tmpglqam4bb\n",
      "\u001b[2m\u001b[36m(pid=27397)\u001b[0m tmpdir: /var/folders/0n/3cchn_wj5619fqz4dswygvj80000gn/T/tmppxsg_nek\n",
      "\u001b[2m\u001b[36m(pid=27399)\u001b[0m tmpdir: /var/folders/0n/3cchn_wj5619fqz4dswygvj80000gn/T/tmpkbn0gbhh\n",
      "\u001b[2m\u001b[36m(pid=27396)\u001b[0m tmpdir: /var/folders/0n/3cchn_wj5619fqz4dswygvj80000gn/T/tmpsuosyvng\n",
      "\u001b[2m\u001b[36m(pid=27394)\u001b[0m tmpdir: /var/folders/0n/3cchn_wj5619fqz4dswygvj80000gn/T/tmp6ia2mhmd\n",
      "\u001b[2m\u001b[36m(pid=27398)\u001b[0m tmpdir: /var/folders/0n/3cchn_wj5619fqz4dswygvj80000gn/T/tmpecfcd4xa\n",
      "\u001b[2m\u001b[36m(pid=27393)\u001b[0m tmpdir: /var/folders/0n/3cchn_wj5619fqz4dswygvj80000gn/T/tmpc7m8qud9\n",
      "\u001b[2m\u001b[36m(pid=27392)\u001b[0m tmpdir: /var/folders/0n/3cchn_wj5619fqz4dswygvj80000gn/T/tmpmnycqn82\n",
      "\u001b[2m\u001b[36m(pid=27395)\u001b[0m tmpdir: /var/folders/0n/3cchn_wj5619fqz4dswygvj80000gn/T/tmp_tgpt3lw\n",
      "\u001b[2m\u001b[36m(pid=27394)\u001b[0m tmpdir: /var/folders/0n/3cchn_wj5619fqz4dswygvj80000gn/T/tmp3j72wcw5\n",
      "\u001b[2m\u001b[36m(pid=27399)\u001b[0m tmpdir: /var/folders/0n/3cchn_wj5619fqz4dswygvj80000gn/T/tmp9wtju3n0\n",
      "\u001b[2m\u001b[36m(pid=27397)\u001b[0m tmpdir: /var/folders/0n/3cchn_wj5619fqz4dswygvj80000gn/T/tmpw6kw4gld\n",
      "\u001b[2m\u001b[36m(pid=27396)\u001b[0m tmpdir: /var/folders/0n/3cchn_wj5619fqz4dswygvj80000gn/T/tmpcogratol\n",
      "\u001b[2m\u001b[36m(pid=27398)\u001b[0m tmpdir: /var/folders/0n/3cchn_wj5619fqz4dswygvj80000gn/T/tmphskbgarw\n",
      "\u001b[2m\u001b[36m(pid=27393)\u001b[0m tmpdir: /var/folders/0n/3cchn_wj5619fqz4dswygvj80000gn/T/tmpe1ydp49o\n",
      "\u001b[2m\u001b[36m(pid=27395)\u001b[0m tmpdir: /var/folders/0n/3cchn_wj5619fqz4dswygvj80000gn/T/tmpv5fsnz8k\n",
      "\u001b[2m\u001b[36m(pid=27392)\u001b[0m tmpdir: /var/folders/0n/3cchn_wj5619fqz4dswygvj80000gn/T/tmpe99tn6tk\n",
      "\u001b[2m\u001b[36m(pid=27396)\u001b[0m tmpdir: /var/folders/0n/3cchn_wj5619fqz4dswygvj80000gn/T/tmpe9ak25fq\n",
      "\u001b[2m\u001b[36m(pid=27394)\u001b[0m tmpdir: /var/folders/0n/3cchn_wj5619fqz4dswygvj80000gn/T/tmpjaqqmjuf\n",
      "\u001b[2m\u001b[36m(pid=27399)\u001b[0m tmpdir: /var/folders/0n/3cchn_wj5619fqz4dswygvj80000gn/T/tmpf0zqh87m\n",
      "\u001b[2m\u001b[36m(pid=27397)\u001b[0m tmpdir: /var/folders/0n/3cchn_wj5619fqz4dswygvj80000gn/T/tmpopfyphw7\n",
      "\u001b[2m\u001b[36m(pid=27398)\u001b[0m tmpdir: /var/folders/0n/3cchn_wj5619fqz4dswygvj80000gn/T/tmpjh4a100j\n",
      "\u001b[2m\u001b[36m(pid=27392)\u001b[0m tmpdir: /var/folders/0n/3cchn_wj5619fqz4dswygvj80000gn/T/tmph00xsrcf\n",
      "\u001b[2m\u001b[36m(pid=27393)\u001b[0m tmpdir: /var/folders/0n/3cchn_wj5619fqz4dswygvj80000gn/T/tmpw33l6fzm\n",
      "\u001b[2m\u001b[36m(pid=27394)\u001b[0m tmpdir: /var/folders/0n/3cchn_wj5619fqz4dswygvj80000gn/T/tmpmnhv7qo9\n",
      "\u001b[2m\u001b[36m(pid=27395)\u001b[0m tmpdir: /var/folders/0n/3cchn_wj5619fqz4dswygvj80000gn/T/tmpz_65pazs\n",
      "\u001b[2m\u001b[36m(pid=27396)\u001b[0m tmpdir: /var/folders/0n/3cchn_wj5619fqz4dswygvj80000gn/T/tmp7df05zyu\n",
      "\u001b[2m\u001b[36m(pid=27399)\u001b[0m tmpdir: /var/folders/0n/3cchn_wj5619fqz4dswygvj80000gn/T/tmp9v0u74lh\n",
      "\u001b[2m\u001b[36m(pid=27398)\u001b[0m tmpdir: /var/folders/0n/3cchn_wj5619fqz4dswygvj80000gn/T/tmptw9l9li3\n",
      "\u001b[2m\u001b[36m(pid=27397)\u001b[0m tmpdir: /var/folders/0n/3cchn_wj5619fqz4dswygvj80000gn/T/tmpb61deihi\n",
      "\u001b[2m\u001b[36m(pid=27392)\u001b[0m tmpdir: /var/folders/0n/3cchn_wj5619fqz4dswygvj80000gn/T/tmp13d1jey7\n",
      "\u001b[2m\u001b[36m(pid=27393)\u001b[0m tmpdir: /var/folders/0n/3cchn_wj5619fqz4dswygvj80000gn/T/tmp5go8_owp\n",
      "\u001b[2m\u001b[36m(pid=27396)\u001b[0m tmpdir: /var/folders/0n/3cchn_wj5619fqz4dswygvj80000gn/T/tmpju6dktpf\n",
      "\u001b[2m\u001b[36m(pid=27398)\u001b[0m tmpdir: /var/folders/0n/3cchn_wj5619fqz4dswygvj80000gn/T/tmpm43re20b\n",
      "\u001b[2m\u001b[36m(pid=27395)\u001b[0m tmpdir: /var/folders/0n/3cchn_wj5619fqz4dswygvj80000gn/T/tmpe4b6vois\n",
      "\u001b[2m\u001b[36m(pid=27399)\u001b[0m tmpdir: /var/folders/0n/3cchn_wj5619fqz4dswygvj80000gn/T/tmp_hqj53_f\n",
      "\u001b[2m\u001b[36m(pid=27394)\u001b[0m tmpdir: /var/folders/0n/3cchn_wj5619fqz4dswygvj80000gn/T/tmpayv5imbp\n",
      "\u001b[2m\u001b[36m(pid=27392)\u001b[0m tmpdir: /var/folders/0n/3cchn_wj5619fqz4dswygvj80000gn/T/tmplcd13z_9\n",
      "\u001b[2m\u001b[36m(pid=27397)\u001b[0m tmpdir: /var/folders/0n/3cchn_wj5619fqz4dswygvj80000gn/T/tmpz7m3l6dx\n",
      "\u001b[2m\u001b[36m(pid=27396)\u001b[0m tmpdir: /var/folders/0n/3cchn_wj5619fqz4dswygvj80000gn/T/tmp8z6mfaki\n",
      "\u001b[2m\u001b[36m(pid=27393)\u001b[0m tmpdir: /var/folders/0n/3cchn_wj5619fqz4dswygvj80000gn/T/tmpxhy8vqq1\n",
      "\u001b[2m\u001b[36m(pid=27398)\u001b[0m tmpdir: /var/folders/0n/3cchn_wj5619fqz4dswygvj80000gn/T/tmp99vhz7fa\n",
      "\u001b[2m\u001b[36m(pid=27394)\u001b[0m tmpdir: /var/folders/0n/3cchn_wj5619fqz4dswygvj80000gn/T/tmpaca_ohxn\n",
      "\u001b[2m\u001b[36m(pid=27395)\u001b[0m tmpdir: /var/folders/0n/3cchn_wj5619fqz4dswygvj80000gn/T/tmp2gpeeb42\n",
      "\u001b[2m\u001b[36m(pid=27399)\u001b[0m tmpdir: /var/folders/0n/3cchn_wj5619fqz4dswygvj80000gn/T/tmpb2qzsbb_\n",
      "\u001b[2m\u001b[36m(pid=27397)\u001b[0m tmpdir: /var/folders/0n/3cchn_wj5619fqz4dswygvj80000gn/T/tmpxxsuj_f3\n",
      "\u001b[2m\u001b[36m(pid=27392)\u001b[0m tmpdir: /var/folders/0n/3cchn_wj5619fqz4dswygvj80000gn/T/tmp6dw5d8rh\n",
      "\u001b[2m\u001b[36m(pid=27396)\u001b[0m tmpdir: /var/folders/0n/3cchn_wj5619fqz4dswygvj80000gn/T/tmpq9ltgszr\n",
      "\u001b[2m\u001b[36m(pid=27393)\u001b[0m tmpdir: /var/folders/0n/3cchn_wj5619fqz4dswygvj80000gn/T/tmpk9myu6yu\n",
      "\u001b[2m\u001b[36m(pid=27398)\u001b[0m tmpdir: /var/folders/0n/3cchn_wj5619fqz4dswygvj80000gn/T/tmpqjtiht_2\n",
      "\u001b[2m\u001b[36m(pid=27394)\u001b[0m tmpdir: /var/folders/0n/3cchn_wj5619fqz4dswygvj80000gn/T/tmpfp0b43oj\n",
      "\u001b[2m\u001b[36m(pid=27395)\u001b[0m tmpdir: /var/folders/0n/3cchn_wj5619fqz4dswygvj80000gn/T/tmpfsnyw9dk\n",
      "\u001b[2m\u001b[36m(pid=27399)\u001b[0m tmpdir: /var/folders/0n/3cchn_wj5619fqz4dswygvj80000gn/T/tmpj3f5knv8\n",
      "\u001b[2m\u001b[36m(pid=27397)\u001b[0m tmpdir: /var/folders/0n/3cchn_wj5619fqz4dswygvj80000gn/T/tmpzb6lbbfk\n",
      "\u001b[2m\u001b[36m(pid=27396)\u001b[0m tmpdir: /var/folders/0n/3cchn_wj5619fqz4dswygvj80000gn/T/tmpmlqus5sq\n",
      "\u001b[2m\u001b[36m(pid=27392)\u001b[0m tmpdir: /var/folders/0n/3cchn_wj5619fqz4dswygvj80000gn/T/tmp1n1qw3n_\n",
      "\u001b[2m\u001b[36m(pid=27393)\u001b[0m tmpdir: /var/folders/0n/3cchn_wj5619fqz4dswygvj80000gn/T/tmp1po8izfx\n",
      "\u001b[2m\u001b[36m(pid=27396)\u001b[0m tmpdir: /var/folders/0n/3cchn_wj5619fqz4dswygvj80000gn/T/tmphlt46ihq\n",
      "\u001b[2m\u001b[36m(pid=27392)\u001b[0m tmpdir: /var/folders/0n/3cchn_wj5619fqz4dswygvj80000gn/T/tmpec944ie6\n",
      "\u001b[2m\u001b[36m(pid=27392)\u001b[0m tmpdir: /var/folders/0n/3cchn_wj5619fqz4dswygvj80000gn/T/tmpcdg6sqg8\n",
      "\u001b[2m\u001b[36m(pid=27396)\u001b[0m tmpdir: /var/folders/0n/3cchn_wj5619fqz4dswygvj80000gn/T/tmp1dk3yjul\n",
      "\u001b[2m\u001b[36m(pid=27392)\u001b[0m tmpdir: /var/folders/0n/3cchn_wj5619fqz4dswygvj80000gn/T/tmpdevksgou\n",
      "\u001b[2m\u001b[36m(pid=27392)\u001b[0m \n"
     ]
    },
    {
     "name": "stdout",
     "output_type": "stream",
     "text": [
      "\u001b[2m\u001b[36m(pid=27396)\u001b[0m tmpdir: /var/folders/0n/3cchn_wj5619fqz4dswygvj80000gn/T/tmpta9n3mp1\n",
      "\u001b[2m\u001b[36m(pid=27392)\u001b[0m tmpdir: /var/folders/0n/3cchn_wj5619fqz4dswygvj80000gn/T/tmppfbg80_2\n",
      "\u001b[2m\u001b[36m(pid=27396)\u001b[0m tmpdir: /var/folders/0n/3cchn_wj5619fqz4dswygvj80000gn/T/tmpdahfslek\n",
      "\u001b[2m\u001b[36m(pid=27396)\u001b[0m tmpdir: /var/folders/0n/3cchn_wj5619fqz4dswygvj80000gn/T/tmpuz5o4guh\n",
      "\u001b[2m\u001b[36m(pid=27392)\u001b[0m tmpdir: /var/folders/0n/3cchn_wj5619fqz4dswygvj80000gn/T/tmpj63s7a1g\n",
      "\u001b[2m\u001b[36m(pid=27392)\u001b[0m tmpdir: /var/folders/0n/3cchn_wj5619fqz4dswygvj80000gn/T/tmpxo3xuy1k\n",
      "\u001b[2m\u001b[36m(pid=27396)\u001b[0m tmpdir: /var/folders/0n/3cchn_wj5619fqz4dswygvj80000gn/T/tmpnbzwlu9e\n",
      "\u001b[2m\u001b[36m(pid=27392)\u001b[0m tmpdir: /var/folders/0n/3cchn_wj5619fqz4dswygvj80000gn/T/tmpj8_y6x5l\n",
      "\u001b[2m\u001b[36m(pid=27396)\u001b[0m tmpdir: /var/folders/0n/3cchn_wj5619fqz4dswygvj80000gn/T/tmp30zkvedp\n",
      "\u001b[2m\u001b[36m(pid=27392)\u001b[0m tmpdir: /var/folders/0n/3cchn_wj5619fqz4dswygvj80000gn/T/tmp6eu9gttc\n",
      "\u001b[2m\u001b[36m(pid=27396)\u001b[0m tmpdir: /var/folders/0n/3cchn_wj5619fqz4dswygvj80000gn/T/tmptbreo1qz\n",
      "\u001b[2m\u001b[36m(pid=27392)\u001b[0m tmpdir: /var/folders/0n/3cchn_wj5619fqz4dswygvj80000gn/T/tmphrmlc533\n",
      "\u001b[2m\u001b[36m(pid=27396)\u001b[0m tmpdir: /var/folders/0n/3cchn_wj5619fqz4dswygvj80000gn/T/tmp4e8edgxb\n",
      "CPU times: user 1.2 s, sys: 236 ms, total: 1.44 s\n",
      "Wall time: 18.1 s\n"
     ]
    }
   ],
   "source": [
    "%%time\n",
    "\n",
    "def processAdesFile(fn, chunk_size=10, max_tracklets=None):\n",
    "    # load the file\n",
    "    df, hdr = read_psv_ades(fn)\n",
    "    del df[\"rmsMag\"] # workaround for FindOrb bug\n",
    "\n",
    "    # subdivide it into smaller chunks, with N tracklets each. These\n",
    "    # chunks will be submitted to individual FindOrb threads to work on.\n",
    "    tracks = chunk(df['trkSub'].unique(), chunk_size)\n",
    "\n",
    "    # launch the parallel processing, and wait for the result\n",
    "    df_id = ray.put(df)\n",
    "    futures = [\n",
    "        dist_fit_orbit_batch.remote(df_id, hdr, track_batch)\n",
    "        for track_batch in tracks[:max_tracklets]\n",
    "    ]\n",
    "    chunked_results = ray.get(futures)\n",
    "    del df_id\n",
    "\n",
    "    # merge the result chunks\n",
    "    results = [result for chunk in chunked_results for result in chunk]\n",
    "\n",
    "    return results\n",
    "\n",
    "# grab this file from https://epyc.astro.washington.edu/~moeyensj/rubin_submissions/ver5/\n",
    "results = processAdesFile(\"2022-10-18T09:06:40.464Z_discoveries_01_LSST_TEST.psv\", max_tracklets=10)"
   ]
  },
  {
   "cell_type": "code",
   "execution_count": 50,
   "metadata": {
    "scrolled": true
   },
   "outputs": [
    {
     "data": {
      "text/plain": [
       "100"
      ]
     },
     "execution_count": 50,
     "metadata": {},
     "output_type": "execute_result"
    }
   ],
   "source": [
    "len(results)"
   ]
  },
  {
   "cell_type": "markdown",
   "metadata": {},
   "source": [
    "## Streaming implementation"
   ]
  },
  {
   "cell_type": "code",
   "execution_count": 96,
   "metadata": {
    "scrolled": true
   },
   "outputs": [
    {
     "name": "stdout",
     "output_type": "stream",
     "text": [
      "\u001b[2m\u001b[36m(pid=27395)\u001b[0m tmpdir: /var/folders/0n/3cchn_wj5619fqz4dswygvj80000gn/T/tmprmuv21dp\n",
      "\u001b[2m\u001b[36m(pid=27398)\u001b[0m tmpdir: /var/folders/0n/3cchn_wj5619fqz4dswygvj80000gn/T/tmpv77983qi\n",
      "\u001b[2m\u001b[36m(pid=27399)\u001b[0m tmpdir: /var/folders/0n/3cchn_wj5619fqz4dswygvj80000gn/T/tmp7so7qf39\n",
      "\u001b[2m\u001b[36m(pid=27397)\u001b[0m tmpdir: /var/folders/0n/3cchn_wj5619fqz4dswygvj80000gn/T/tmpwd6x90bp\n",
      "\u001b[2m\u001b[36m(pid=27396)\u001b[0m tmpdir: /var/folders/0n/3cchn_wj5619fqz4dswygvj80000gn/T/tmpa5mam1uo\n",
      "\u001b[2m\u001b[36m(pid=27394)\u001b[0m tmpdir: /var/folders/0n/3cchn_wj5619fqz4dswygvj80000gn/T/tmp74jg9ypy\n",
      "\u001b[2m\u001b[36m(pid=27392)\u001b[0m tmpdir: /var/folders/0n/3cchn_wj5619fqz4dswygvj80000gn/T/tmptgndujhy\n",
      "\u001b[2m\u001b[36m(pid=27393)\u001b[0m tmpdir: /var/folders/0n/3cchn_wj5619fqz4dswygvj80000gn/T/tmpqs76m6cu\n"
     ]
    }
   ],
   "source": [
    "class BatchRun:\n",
    "    def __init__(self, fn):\n",
    "        df, hdr = read_psv_ades(fn)\n",
    "        del df[\"rmsMag\"] # workaround for FindOrb bug\n",
    "\n",
    "        self.df, self.hdr = df, hdr\n",
    "\n",
    "    def start(self, chunk_size=10, max_tracklets=None):\n",
    "        # subdivide the data into smaller chunks, with N tracklets each. These\n",
    "        # will be submitted to individual FindOrb threads to work on.\n",
    "        tracks = chunk(df['trkSub'].unique(), chunk_size)\n",
    "\n",
    "        # launch the parallel processing\n",
    "        df_id = ray.put(df)\n",
    "        self.tasks = [\n",
    "            dist_fit_orbit_batch.remote(df_id, hdr, track_batch)\n",
    "            for track_batch in tracks[:max_tracklets]\n",
    "        ]\n",
    "        self.result = []\n",
    "\n",
    "    def collect(self, num_returns=None, timeout=0):\n",
    "        if num_returns==None:\n",
    "            num_returns = len(self.tasks)\n",
    "\n",
    "        # collect the results that have finished\n",
    "        done, tasks = ray.wait(self.tasks, num_returns=num_returns, timeout=timeout)\n",
    "        \n",
    "        chunked_results = ray.get(done)\n",
    "        results = [result for chunk in chunked_results for result in chunk]\n",
    "        \n",
    "        self.result += results\n",
    "        self.tasks = tasks\n",
    "\n",
    "        return len(results)\n",
    "\n",
    "# grab this file from https://epyc.astro.washington.edu/~moeyensj/rubin_submissions/ver5/\n",
    "batch = BatchRun(\"2022-10-18T09:06:40.464Z_discoveries_01_LSST_TEST.psv\")\n",
    "batch.start(10, 10)"
   ]
  },
  {
   "cell_type": "code",
   "execution_count": 97,
   "metadata": {},
   "outputs": [
    {
     "name": "stdout",
     "output_type": "stream",
     "text": [
      "\u001b[2m\u001b[36m(pid=27399)\u001b[0m tmpdir: /var/folders/0n/3cchn_wj5619fqz4dswygvj80000gn/T/tmpljfyvip7\n"
     ]
    },
    {
     "data": {
      "text/plain": [
       "10"
      ]
     },
     "execution_count": 97,
     "metadata": {},
     "output_type": "execute_result"
    },
    {
     "name": "stdout",
     "output_type": "stream",
     "text": [
      "\u001b[2m\u001b[36m(pid=27395)\u001b[0m tmpdir: /var/folders/0n/3cchn_wj5619fqz4dswygvj80000gn/T/tmphyndtnl7\n",
      "\u001b[2m\u001b[36m(pid=27393)\u001b[0m tmpdir: /var/folders/0n/3cchn_wj5619fqz4dswygvj80000gn/T/tmphjni275w\n",
      "\u001b[2m\u001b[36m(pid=27392)\u001b[0m tmpdir: /var/folders/0n/3cchn_wj5619fqz4dswygvj80000gn/T/tmp6_wj06gg\n",
      "\u001b[2m\u001b[36m(pid=27394)\u001b[0m tmpdir: /var/folders/0n/3cchn_wj5619fqz4dswygvj80000gn/T/tmpplemugzo\n",
      "\u001b[2m\u001b[36m(pid=27398)\u001b[0m tmpdir: /var/folders/0n/3cchn_wj5619fqz4dswygvj80000gn/T/tmpoyudm786\n",
      "\u001b[2m\u001b[36m(pid=27396)\u001b[0m tmpdir: /var/folders/0n/3cchn_wj5619fqz4dswygvj80000gn/T/tmpbcuvg786\n",
      "\u001b[2m\u001b[36m(pid=27397)\u001b[0m tmpdir: /var/folders/0n/3cchn_wj5619fqz4dswygvj80000gn/T/tmpk0v6w5o2\n"
     ]
    }
   ],
   "source": [
    "len(batch.tasks)"
   ]
  },
  {
   "cell_type": "code",
   "execution_count": 105,
   "metadata": {},
   "outputs": [
    {
     "data": {
      "text/plain": [
       "2"
      ]
     },
     "execution_count": 105,
     "metadata": {},
     "output_type": "execute_result"
    }
   ],
   "source": [
    "batch.collect()"
   ]
  },
  {
   "cell_type": "code",
   "execution_count": 69,
   "metadata": {},
   "outputs": [],
   "source": [
    "res = 1\n",
    "while res:\n",
    "    res = batch.collect()"
   ]
  },
  {
   "cell_type": "code",
   "execution_count": 106,
   "metadata": {},
   "outputs": [
    {
     "data": {
      "text/plain": [
       "100"
      ]
     },
     "execution_count": 106,
     "metadata": {},
     "output_type": "execute_result"
    }
   ],
   "source": [
    "len(batch.result)"
   ]
  },
  {
   "cell_type": "code",
   "execution_count": 112,
   "metadata": {},
   "outputs": [],
   "source": [
    "orbits = batch.result"
   ]
  },
  {
   "cell_type": "markdown",
   "metadata": {},
   "source": [
    "## Q/A"
   ]
  },
  {
   "cell_type": "markdown",
   "metadata": {},
   "source": [
    "Check for failiures:"
   ]
  },
  {
   "cell_type": "code",
   "execution_count": 113,
   "metadata": {},
   "outputs": [
    {
     "name": "stdout",
     "output_type": "stream",
     "text": [
      "0\n"
     ]
    },
    {
     "data": {
      "text/plain": [
       "[]"
      ]
     },
     "execution_count": 113,
     "metadata": {},
     "output_type": "execute_result"
    }
   ],
   "source": [
    "failures = [ result for result in orbits if result['findorb']['returncode'] != 0]\n",
    "print(len(failures))\n",
    "failures"
   ]
  },
  {
   "cell_type": "code",
   "execution_count": 136,
   "metadata": {},
   "outputs": [],
   "source": [
    "def to_fwf(fn, df):\n",
    "    from tabulate import tabulate\n",
    "    content = tabulate(df.values.tolist(), list(df.columns), tablefmt=\"plain\", floatfmt=\".12f\")\n",
    "    with open(fn, \"w\") as fp:\n",
    "        fp.write(content)\n",
    "        fp.write(\"\\n\")"
   ]
  },
  {
   "cell_type": "markdown",
   "metadata": {},
   "source": [
    "Construct a dataframe of states:"
   ]
  },
  {
   "cell_type": "code",
   "execution_count": 139,
   "metadata": {},
   "outputs": [
    {
     "data": {
      "text/plain": [
       "59856.18942099996"
      ]
     },
     "execution_count": 139,
     "metadata": {},
     "output_type": "execute_result"
    }
   ],
   "source": []
  },
  {
   "cell_type": "code",
   "execution_count": 141,
   "metadata": {},
   "outputs": [
    {
     "data": {
      "text/html": [
       "<div>\n",
       "<style scoped>\n",
       "    .dataframe tbody tr th:only-of-type {\n",
       "        vertical-align: middle;\n",
       "    }\n",
       "\n",
       "    .dataframe tbody tr th {\n",
       "        vertical-align: top;\n",
       "    }\n",
       "\n",
       "    .dataframe thead th {\n",
       "        text-align: right;\n",
       "    }\n",
       "</style>\n",
       "<table border=\"1\" class=\"dataframe\">\n",
       "  <thead>\n",
       "    <tr style=\"text-align: right;\">\n",
       "      <th></th>\n",
       "      <th>trkSub</th>\n",
       "      <th>x</th>\n",
       "      <th>y</th>\n",
       "      <th>z</th>\n",
       "      <th>vx</th>\n",
       "      <th>vy</th>\n",
       "      <th>vz</th>\n",
       "      <th>epoch</th>\n",
       "    </tr>\n",
       "  </thead>\n",
       "  <tbody>\n",
       "    <tr>\n",
       "      <th>0</th>\n",
       "      <td>t0000000</td>\n",
       "      <td>3.732200</td>\n",
       "      <td>-1.427343</td>\n",
       "      <td>-1.232355</td>\n",
       "      <td>0.001064</td>\n",
       "      <td>0.005572</td>\n",
       "      <td>-0.000092</td>\n",
       "      <td>59856.189421</td>\n",
       "    </tr>\n",
       "    <tr>\n",
       "      <th>1</th>\n",
       "      <td>t0000001</td>\n",
       "      <td>4.013681</td>\n",
       "      <td>0.824397</td>\n",
       "      <td>-1.523476</td>\n",
       "      <td>-0.000825</td>\n",
       "      <td>0.002680</td>\n",
       "      <td>-0.000553</td>\n",
       "      <td>59859.291354</td>\n",
       "    </tr>\n",
       "    <tr>\n",
       "      <th>2</th>\n",
       "      <td>t0000002</td>\n",
       "      <td>2.375318</td>\n",
       "      <td>-0.443731</td>\n",
       "      <td>0.379375</td>\n",
       "      <td>0.001031</td>\n",
       "      <td>0.008871</td>\n",
       "      <td>0.001200</td>\n",
       "      <td>59855.072901</td>\n",
       "    </tr>\n",
       "    <tr>\n",
       "      <th>3</th>\n",
       "      <td>t0000003</td>\n",
       "      <td>1.253650</td>\n",
       "      <td>-0.359243</td>\n",
       "      <td>-0.265275</td>\n",
       "      <td>0.009259</td>\n",
       "      <td>0.013286</td>\n",
       "      <td>-0.002807</td>\n",
       "      <td>59858.082350</td>\n",
       "    </tr>\n",
       "    <tr>\n",
       "      <th>4</th>\n",
       "      <td>t0000004</td>\n",
       "      <td>1.620572</td>\n",
       "      <td>-0.258156</td>\n",
       "      <td>0.222494</td>\n",
       "      <td>0.014663</td>\n",
       "      <td>0.008725</td>\n",
       "      <td>-0.000178</td>\n",
       "      <td>59855.042805</td>\n",
       "    </tr>\n",
       "    <tr>\n",
       "      <th>...</th>\n",
       "      <td>...</td>\n",
       "      <td>...</td>\n",
       "      <td>...</td>\n",
       "      <td>...</td>\n",
       "      <td>...</td>\n",
       "      <td>...</td>\n",
       "      <td>...</td>\n",
       "      <td>...</td>\n",
       "    </tr>\n",
       "    <tr>\n",
       "      <th>95</th>\n",
       "      <td>t0000095</td>\n",
       "      <td>1.513769</td>\n",
       "      <td>-0.277918</td>\n",
       "      <td>0.038995</td>\n",
       "      <td>0.009665</td>\n",
       "      <td>0.012959</td>\n",
       "      <td>-0.000895</td>\n",
       "      <td>59855.016054</td>\n",
       "    </tr>\n",
       "    <tr>\n",
       "      <th>96</th>\n",
       "      <td>t0000096</td>\n",
       "      <td>1.213115</td>\n",
       "      <td>-0.028367</td>\n",
       "      <td>-0.137101</td>\n",
       "      <td>-0.015274</td>\n",
       "      <td>0.011064</td>\n",
       "      <td>-0.000784</td>\n",
       "      <td>59859.014573</td>\n",
       "    </tr>\n",
       "    <tr>\n",
       "      <th>97</th>\n",
       "      <td>t0000097</td>\n",
       "      <td>1.698212</td>\n",
       "      <td>-0.096381</td>\n",
       "      <td>-1.087345</td>\n",
       "      <td>0.008248</td>\n",
       "      <td>0.007391</td>\n",
       "      <td>-0.007025</td>\n",
       "      <td>59857.285042</td>\n",
       "    </tr>\n",
       "    <tr>\n",
       "      <th>98</th>\n",
       "      <td>t0000098</td>\n",
       "      <td>1.569186</td>\n",
       "      <td>-0.360982</td>\n",
       "      <td>-0.250207</td>\n",
       "      <td>0.010196</td>\n",
       "      <td>0.010001</td>\n",
       "      <td>-0.002535</td>\n",
       "      <td>59860.200852</td>\n",
       "    </tr>\n",
       "    <tr>\n",
       "      <th>99</th>\n",
       "      <td>t0000099</td>\n",
       "      <td>1.348991</td>\n",
       "      <td>0.017579</td>\n",
       "      <td>0.072480</td>\n",
       "      <td>-0.005136</td>\n",
       "      <td>0.006913</td>\n",
       "      <td>0.011209</td>\n",
       "      <td>59862.012296</td>\n",
       "    </tr>\n",
       "  </tbody>\n",
       "</table>\n",
       "<p>100 rows × 8 columns</p>\n",
       "</div>"
      ],
      "text/plain": [
       "      trkSub         x         y         z        vx        vy        vz  \\\n",
       "0   t0000000  3.732200 -1.427343 -1.232355  0.001064  0.005572 -0.000092   \n",
       "1   t0000001  4.013681  0.824397 -1.523476 -0.000825  0.002680 -0.000553   \n",
       "2   t0000002  2.375318 -0.443731  0.379375  0.001031  0.008871  0.001200   \n",
       "3   t0000003  1.253650 -0.359243 -0.265275  0.009259  0.013286 -0.002807   \n",
       "4   t0000004  1.620572 -0.258156  0.222494  0.014663  0.008725 -0.000178   \n",
       "..       ...       ...       ...       ...       ...       ...       ...   \n",
       "95  t0000095  1.513769 -0.277918  0.038995  0.009665  0.012959 -0.000895   \n",
       "96  t0000096  1.213115 -0.028367 -0.137101 -0.015274  0.011064 -0.000784   \n",
       "97  t0000097  1.698212 -0.096381 -1.087345  0.008248  0.007391 -0.007025   \n",
       "98  t0000098  1.569186 -0.360982 -0.250207  0.010196  0.010001 -0.002535   \n",
       "99  t0000099  1.348991  0.017579  0.072480 -0.005136  0.006913  0.011209   \n",
       "\n",
       "           epoch  \n",
       "0   59856.189421  \n",
       "1   59859.291354  \n",
       "2   59855.072901  \n",
       "3   59858.082350  \n",
       "4   59855.042805  \n",
       "..           ...  \n",
       "95  59855.016054  \n",
       "96  59859.014573  \n",
       "97  59857.285042  \n",
       "98  59860.200852  \n",
       "99  59862.012296  \n",
       "\n",
       "[100 rows x 8 columns]"
      ]
     },
     "execution_count": 141,
     "metadata": {},
     "output_type": "execute_result"
    }
   ],
   "source": [
    "states = [ result['state_vect'] for result in orbits ]\n",
    "epochs = [ result[\"epoch\"] - 2400000.5 for result in orbits]\n",
    "keys = [ result['name'] for result in orbits ]\n",
    "states = pd.DataFrame(states, index=keys, columns=[\"x\", \"y\", \"z\", \"vx\", \"vy\", \"vz\"])\n",
    "states[\"epoch\"] = epochs\n",
    "states.reset_index(inplace=True)\n",
    "states = states.rename(columns = {'index':'trkSub'})\n",
    "states.sort_index()\n",
    "to_fwf(\"result.txt\", states)\n",
    "states"
   ]
  },
  {
   "cell_type": "code",
   "execution_count": 85,
   "metadata": {},
   "outputs": [],
   "source": [
    "# states1 = states"
   ]
  },
  {
   "cell_type": "code",
   "execution_count": 86,
   "metadata": {},
   "outputs": [
    {
     "data": {
      "text/plain": [
       "0    True\n",
       "1    True\n",
       "2    True\n",
       "3    True\n",
       "4    True\n",
       "5    True\n",
       "dtype: bool"
      ]
     },
     "execution_count": 86,
     "metadata": {},
     "output_type": "execute_result"
    }
   ],
   "source": [
    "(states1 == states).all()"
   ]
  },
  {
   "cell_type": "code",
   "execution_count": null,
   "metadata": {},
   "outputs": [],
   "source": []
  }
 ],
 "metadata": {
  "kernelspec": {
   "display_name": "Python 3",
   "language": "python",
   "name": "python3"
  },
  "language_info": {
   "codemirror_mode": {
    "name": "ipython",
    "version": 3
   },
   "file_extension": ".py",
   "mimetype": "text/x-python",
   "name": "python",
   "nbconvert_exporter": "python",
   "pygments_lexer": "ipython3",
   "version": "3.8.6"
  }
 },
 "nbformat": 4,
 "nbformat_minor": 4
}
